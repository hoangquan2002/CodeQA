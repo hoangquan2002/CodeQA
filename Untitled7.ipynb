{
  "cells": [
    {
      "cell_type": "markdown",
      "metadata": {
        "id": "view-in-github",
        "colab_type": "text"
      },
      "source": [
        "<a href=\"https://colab.research.google.com/github/hoangquan2002/CodeQA/blob/main/Untitled7.ipynb\" target=\"_parent\"><img src=\"https://colab.research.google.com/assets/colab-badge.svg\" alt=\"Open In Colab\"/></a>"
      ]
    },
    {
      "cell_type": "code",
      "execution_count": 1,
      "metadata": {
        "colab": {
          "base_uri": "https://localhost:8080/"
        },
        "id": "D1v3rj3r0Wkj",
        "outputId": "002c48a1-de04-472b-ea4a-736e8bb732ba"
      },
      "outputs": [
        {
          "output_type": "stream",
          "name": "stdout",
          "text": [
            "Cloning into 'QACODE'...\n",
            "remote: Enumerating objects: 192, done.\u001b[K\n",
            "remote: Counting objects: 100% (87/87), done.\u001b[K\n",
            "remote: Compressing objects: 100% (69/69), done.\u001b[K\n",
            "remote: Total 192 (delta 59), reused 35 (delta 17), pack-reused 105\u001b[K\n",
            "Receiving objects: 100% (192/192), 92.26 MiB | 19.40 MiB/s, done.\n",
            "Resolving deltas: 100% (64/64), done.\n",
            "Updating files: 100% (150/150), done.\n"
          ]
        }
      ],
      "source": [
        "!git clone https://github.com/hoangquan2002/QACODE.git"
      ]
    },
    {
      "cell_type": "code",
      "execution_count": 2,
      "metadata": {
        "colab": {
          "base_uri": "https://localhost:8080/"
        },
        "id": "rVoP5wOx0Zer",
        "outputId": "89ec73b3-5fc0-4cfb-9e39-d6d0f5691b0d"
      },
      "outputs": [
        {
          "output_type": "stream",
          "name": "stdout",
          "text": [
            "QACODE\tsample_data\n"
          ]
        }
      ],
      "source": [
        "!ls"
      ]
    },
    {
      "cell_type": "code",
      "execution_count": 3,
      "metadata": {
        "colab": {
          "base_uri": "https://localhost:8080/"
        },
        "id": "3r-VtAg90bcI",
        "outputId": "076d7575-0d13-4ef9-b27c-84eaf0359e1e"
      },
      "outputs": [
        {
          "output_type": "stream",
          "name": "stdout",
          "text": [
            "/content/QACODE/codeBERT\n"
          ]
        }
      ],
      "source": [
        "%cd QACODE/codeBERT"
      ]
    },
    {
      "cell_type": "code",
      "execution_count": 4,
      "metadata": {
        "colab": {
          "base_uri": "https://localhost:8080/"
        },
        "id": "oNxw3owb0dXE",
        "outputId": "1dcc4180-1273-4b32-bd9f-86fed760c116"
      },
      "outputs": [
        {
          "output_type": "stream",
          "name": "stdout",
          "text": [
            "Requirement already satisfied: torch in /usr/local/lib/python3.10/dist-packages (2.1.0+cu121)\n",
            "Requirement already satisfied: filelock in /usr/local/lib/python3.10/dist-packages (from torch) (3.13.1)\n",
            "Requirement already satisfied: typing-extensions in /usr/local/lib/python3.10/dist-packages (from torch) (4.5.0)\n",
            "Requirement already satisfied: sympy in /usr/local/lib/python3.10/dist-packages (from torch) (1.12)\n",
            "Requirement already satisfied: networkx in /usr/local/lib/python3.10/dist-packages (from torch) (3.2.1)\n",
            "Requirement already satisfied: jinja2 in /usr/local/lib/python3.10/dist-packages (from torch) (3.1.2)\n",
            "Requirement already satisfied: fsspec in /usr/local/lib/python3.10/dist-packages (from torch) (2023.6.0)\n",
            "Requirement already satisfied: triton==2.1.0 in /usr/local/lib/python3.10/dist-packages (from torch) (2.1.0)\n",
            "Requirement already satisfied: MarkupSafe>=2.0 in /usr/local/lib/python3.10/dist-packages (from jinja2->torch) (2.1.3)\n",
            "Requirement already satisfied: mpmath>=0.19 in /usr/local/lib/python3.10/dist-packages (from sympy->torch) (1.3.0)\n"
          ]
        }
      ],
      "source": [
        "!pip install torch"
      ]
    },
    {
      "cell_type": "code",
      "execution_count": 5,
      "metadata": {
        "colab": {
          "base_uri": "https://localhost:8080/"
        },
        "id": "vO1Bynzt0pYe",
        "outputId": "d628da44-2eac-48f2-9673-acfce958269f"
      },
      "outputs": [
        {
          "output_type": "stream",
          "name": "stdout",
          "text": [
            "Requirement already satisfied: transformers in /usr/local/lib/python3.10/dist-packages (4.35.2)\n",
            "Requirement already satisfied: filelock in /usr/local/lib/python3.10/dist-packages (from transformers) (3.13.1)\n",
            "Requirement already satisfied: huggingface-hub<1.0,>=0.16.4 in /usr/local/lib/python3.10/dist-packages (from transformers) (0.19.4)\n",
            "Requirement already satisfied: numpy>=1.17 in /usr/local/lib/python3.10/dist-packages (from transformers) (1.23.5)\n",
            "Requirement already satisfied: packaging>=20.0 in /usr/local/lib/python3.10/dist-packages (from transformers) (23.2)\n",
            "Requirement already satisfied: pyyaml>=5.1 in /usr/local/lib/python3.10/dist-packages (from transformers) (6.0.1)\n",
            "Requirement already satisfied: regex!=2019.12.17 in /usr/local/lib/python3.10/dist-packages (from transformers) (2023.6.3)\n",
            "Requirement already satisfied: requests in /usr/local/lib/python3.10/dist-packages (from transformers) (2.31.0)\n",
            "Requirement already satisfied: tokenizers<0.19,>=0.14 in /usr/local/lib/python3.10/dist-packages (from transformers) (0.15.0)\n",
            "Requirement already satisfied: safetensors>=0.3.1 in /usr/local/lib/python3.10/dist-packages (from transformers) (0.4.1)\n",
            "Requirement already satisfied: tqdm>=4.27 in /usr/local/lib/python3.10/dist-packages (from transformers) (4.66.1)\n",
            "Requirement already satisfied: fsspec>=2023.5.0 in /usr/local/lib/python3.10/dist-packages (from huggingface-hub<1.0,>=0.16.4->transformers) (2023.6.0)\n",
            "Requirement already satisfied: typing-extensions>=3.7.4.3 in /usr/local/lib/python3.10/dist-packages (from huggingface-hub<1.0,>=0.16.4->transformers) (4.5.0)\n",
            "Requirement already satisfied: charset-normalizer<4,>=2 in /usr/local/lib/python3.10/dist-packages (from requests->transformers) (3.3.2)\n",
            "Requirement already satisfied: idna<4,>=2.5 in /usr/local/lib/python3.10/dist-packages (from requests->transformers) (3.6)\n",
            "Requirement already satisfied: urllib3<3,>=1.21.1 in /usr/local/lib/python3.10/dist-packages (from requests->transformers) (2.0.7)\n",
            "Requirement already satisfied: certifi>=2017.4.17 in /usr/local/lib/python3.10/dist-packages (from requests->transformers) (2023.11.17)\n"
          ]
        }
      ],
      "source": [
        "!pip install transformers"
      ]
    },
    {
      "cell_type": "code",
      "execution_count": 6,
      "metadata": {
        "colab": {
          "base_uri": "https://localhost:8080/"
        },
        "id": "S7Zgn7MH0tBe",
        "outputId": "571cf2f5-f722-4009-8c89-76d325cd886b"
      },
      "outputs": [
        {
          "output_type": "stream",
          "name": "stdout",
          "text": [
            "12/28/2023 04:57:03 - INFO - __main__ -   Namespace(model_type='roberta', model_name_or_path='microsoft/codebert-base', output_dir='../output/CodeBERT', load_model_path=None, train_filename='../data/java/train/', dev_filename='../data/java/dev/', test_filename='../data/java/test/', config_name='', tokenizer_name='', max_source_length=200, max_target_length=30, do_train=True, do_eval=True, do_test=True, do_lower_case=False, no_cuda=False, train_batch_size=32, eval_batch_size=32, gradient_accumulation_steps=1, learning_rate=5e-05, beam_size=10, weight_decay=0.0, adam_epsilon=1e-08, max_grad_norm=1.0, num_train_epochs=1, max_steps=-1, eval_steps=-1, train_steps=-1, warmup_steps=0, local_rank=-1, seed=42)\n",
            "12/28/2023 04:57:03 - WARNING - __main__ -   Process rank: -1, device: cuda, n_gpu: 1, distributed training: False\n",
            "config.json: 100% 498/498 [00:00<00:00, 2.48MB/s]\n",
            "tokenizer_config.json: 100% 25.0/25.0 [00:00<00:00, 106kB/s]\n",
            "vocab.json: 100% 899k/899k [00:00<00:00, 1.15MB/s]\n",
            "merges.txt: 100% 456k/456k [00:00<00:00, 1.17MB/s]\n",
            "special_tokens_map.json: 100% 150/150 [00:00<00:00, 808kB/s]\n",
            "pytorch_model.bin: 100% 499M/499M [00:25<00:00, 19.2MB/s]\n",
            "12/28/2023 04:57:38 - INFO - __main__ -   *** Example ***\n",
            "12/28/2023 04:57:38 - INFO - __main__ -   idx: 0\n",
            "12/28/2023 04:57:38 - INFO - __main__ -   source_tokens: ['<s>', 'What', '_do', '_the', '_caller', '_modify', '_?', '</s>', 'public', '_Object', '_[', '_]', '_to', '_Array', '_(', '_)', '_{', '_fully', '_Lock', '_(', '_)', '_;', '_try', '_{', '_int', '_size', '_=', '_count', '_.', '_get', '_(', '_)', '_;', '_Object', '_[', '_]', '_a', '_=', '_new', '_Object', '_[', '_size', '_]', '_;', '_int', '_k', '_=', '_NUM', '_;', '_for', '_(', '_Node', '_<', '_E', '_>', '_p', '_=', '_head', '_.', '_next', '_;', '_p', '_!=', '_null', '_;', '_p', '_=', '_p', '_.', '_next', '_)', '_a', '_[', '_k', '_++', '_]', '_=', '_p', '_.', '_item', '_;', '_return', '_a', '_;', '_}', '_finally', '_{', '_fully', '_Unlock', '_(', '_)', '_;', '_}', '_}', '</s>']\n",
            "12/28/2023 04:57:38 - INFO - __main__ -   source_ids: 0 2264 109 5 17017 23209 17487 2 15110 35671 646 27779 7 42719 36 4839 25522 1950 11647 36 4839 25606 860 25522 6979 1836 5457 3212 479 120 36 4839 25606 35671 646 27779 10 5457 92 35671 646 1836 27779 25606 6979 449 5457 34300 25606 13 36 44058 28696 381 8061 181 5457 471 479 220 25606 181 49333 23796 25606 181 5457 181 479 220 4839 10 646 449 48793 27779 5457 181 479 6880 25606 671 10 25606 35524 1747 25522 1950 43076 36 4839 25606 35524 35524 2 1 1 1 1 1 1 1 1 1 1 1 1 1 1 1 1 1 1 1 1 1 1 1 1 1 1 1 1 1 1 1 1 1 1 1 1 1 1 1 1 1 1 1 1 1 1 1 1 1 1 1 1 1 1 1 1 1 1 1 1 1 1 1 1 1 1 1 1 1 1 1 1 1 1 1 1 1 1 1 1 1 1 1 1 1 1 1 1 1 1 1 1 1 1 1 1 1 1 1 1 1 1 1 1 1\n",
            "12/28/2023 04:57:38 - INFO - __main__ -   source_mask: 1 1 1 1 1 1 1 1 1 1 1 1 1 1 1 1 1 1 1 1 1 1 1 1 1 1 1 1 1 1 1 1 1 1 1 1 1 1 1 1 1 1 1 1 1 1 1 1 1 1 1 1 1 1 1 1 1 1 1 1 1 1 1 1 1 1 1 1 1 1 1 1 1 1 1 1 1 1 1 1 1 1 1 1 1 1 1 1 1 1 1 1 1 1 1 0 0 0 0 0 0 0 0 0 0 0 0 0 0 0 0 0 0 0 0 0 0 0 0 0 0 0 0 0 0 0 0 0 0 0 0 0 0 0 0 0 0 0 0 0 0 0 0 0 0 0 0 0 0 0 0 0 0 0 0 0 0 0 0 0 0 0 0 0 0 0 0 0 0 0 0 0 0 0 0 0 0 0 0 0 0 0 0 0 0 0 0 0 0 0 0 0 0 0 0 0 0 0 0 0\n",
            "12/28/2023 04:57:38 - INFO - __main__ -   target_tokens: ['<s>', 'the', '_returned', '_array', '</s>']\n",
            "12/28/2023 04:57:38 - INFO - __main__ -   target_ids: 0 627 1835 8932 2 1 1 1 1 1 1 1 1 1 1 1 1 1 1 1 1 1 1 1 1 1 1 1 1 1\n",
            "12/28/2023 04:57:38 - INFO - __main__ -   target_mask: 1 1 1 1 1 0 0 0 0 0 0 0 0 0 0 0 0 0 0 0 0 0 0 0 0 0 0 0 0 0\n",
            "12/28/2023 04:57:38 - INFO - __main__ -   *** Example ***\n",
            "12/28/2023 04:57:38 - INFO - __main__ -   idx: 1\n",
            "12/28/2023 04:57:38 - INFO - __main__ -   source_tokens: ['<s>', 'What', '_do', '_an', '_array', '_contain', '_?', '</s>', 'public', '_Object', '_[', '_]', '_to', '_Array', '_(', '_)', '_{', '_fully', '_Lock', '_(', '_)', '_;', '_try', '_{', '_int', '_size', '_=', '_count', '_.', '_get', '_(', '_)', '_;', '_Object', '_[', '_]', '_a', '_=', '_new', '_Object', '_[', '_size', '_]', '_;', '_int', '_k', '_=', '_NUM', '_;', '_for', '_(', '_Node', '_<', '_E', '_>', '_p', '_=', '_head', '_.', '_next', '_;', '_p', '_!=', '_null', '_;', '_p', '_=', '_p', '_.', '_next', '_)', '_a', '_[', '_k', '_++', '_]', '_=', '_p', '_.', '_item', '_;', '_return', '_a', '_;', '_}', '_finally', '_{', '_fully', '_Unlock', '_(', '_)', '_;', '_}', '_}', '</s>']\n",
            "12/28/2023 04:57:38 - INFO - __main__ -   source_ids: 0 2264 109 41 8932 5585 17487 2 15110 35671 646 27779 7 42719 36 4839 25522 1950 11647 36 4839 25606 860 25522 6979 1836 5457 3212 479 120 36 4839 25606 35671 646 27779 10 5457 92 35671 646 1836 27779 25606 6979 449 5457 34300 25606 13 36 44058 28696 381 8061 181 5457 471 479 220 25606 181 49333 23796 25606 181 5457 181 479 220 4839 10 646 449 48793 27779 5457 181 479 6880 25606 671 10 25606 35524 1747 25522 1950 43076 36 4839 25606 35524 35524 2 1 1 1 1 1 1 1 1 1 1 1 1 1 1 1 1 1 1 1 1 1 1 1 1 1 1 1 1 1 1 1 1 1 1 1 1 1 1 1 1 1 1 1 1 1 1 1 1 1 1 1 1 1 1 1 1 1 1 1 1 1 1 1 1 1 1 1 1 1 1 1 1 1 1 1 1 1 1 1 1 1 1 1 1 1 1 1 1 1 1 1 1 1 1 1 1 1 1 1 1 1 1 1 1 1\n",
            "12/28/2023 04:57:38 - INFO - __main__ -   source_mask: 1 1 1 1 1 1 1 1 1 1 1 1 1 1 1 1 1 1 1 1 1 1 1 1 1 1 1 1 1 1 1 1 1 1 1 1 1 1 1 1 1 1 1 1 1 1 1 1 1 1 1 1 1 1 1 1 1 1 1 1 1 1 1 1 1 1 1 1 1 1 1 1 1 1 1 1 1 1 1 1 1 1 1 1 1 1 1 1 1 1 1 1 1 1 1 0 0 0 0 0 0 0 0 0 0 0 0 0 0 0 0 0 0 0 0 0 0 0 0 0 0 0 0 0 0 0 0 0 0 0 0 0 0 0 0 0 0 0 0 0 0 0 0 0 0 0 0 0 0 0 0 0 0 0 0 0 0 0 0 0 0 0 0 0 0 0 0 0 0 0 0 0 0 0 0 0 0 0 0 0 0 0 0 0 0 0 0 0 0 0 0 0 0 0 0 0 0 0 0 0\n",
            "12/28/2023 04:57:38 - INFO - __main__ -   target_tokens: ['<s>', 'all', '_of', '_the', '_elements', '_in', '_this', '_queue', '</s>']\n",
            "12/28/2023 04:57:38 - INFO - __main__ -   target_ids: 0 1250 9 5 4785 11 42 21021 2 1 1 1 1 1 1 1 1 1 1 1 1 1 1 1 1 1 1 1 1 1\n",
            "12/28/2023 04:57:38 - INFO - __main__ -   target_mask: 1 1 1 1 1 1 1 1 1 0 0 0 0 0 0 0 0 0 0 0 0 0 0 0 0 0 0 0 0 0\n",
            "12/28/2023 04:57:38 - INFO - __main__ -   *** Example ***\n",
            "12/28/2023 04:57:38 - INFO - __main__ -   idx: 2\n",
            "12/28/2023 04:57:38 - INFO - __main__ -   source_tokens: ['<s>', 'What', '_must', '_this', '_method', '_allocate', '_?', '</s>', 'public', '_Object', '_[', '_]', '_to', '_Array', '_(', '_)', '_{', '_fully', '_Lock', '_(', '_)', '_;', '_try', '_{', '_int', '_size', '_=', '_count', '_.', '_get', '_(', '_)', '_;', '_Object', '_[', '_]', '_a', '_=', '_new', '_Object', '_[', '_size', '_]', '_;', '_int', '_k', '_=', '_NUM', '_;', '_for', '_(', '_Node', '_<', '_E', '_>', '_p', '_=', '_head', '_.', '_next', '_;', '_p', '_!=', '_null', '_;', '_p', '_=', '_p', '_.', '_next', '_)', '_a', '_[', '_k', '_++', '_]', '_=', '_p', '_.', '_item', '_;', '_return', '_a', '_;', '_}', '_finally', '_{', '_fully', '_Unlock', '_(', '_)', '_;', '_}', '_}', '</s>']\n",
            "12/28/2023 04:57:38 - INFO - __main__ -   source_ids: 0 2264 531 42 5448 25915 17487 2 15110 35671 646 27779 7 42719 36 4839 25522 1950 11647 36 4839 25606 860 25522 6979 1836 5457 3212 479 120 36 4839 25606 35671 646 27779 10 5457 92 35671 646 1836 27779 25606 6979 449 5457 34300 25606 13 36 44058 28696 381 8061 181 5457 471 479 220 25606 181 49333 23796 25606 181 5457 181 479 220 4839 10 646 449 48793 27779 5457 181 479 6880 25606 671 10 25606 35524 1747 25522 1950 43076 36 4839 25606 35524 35524 2 1 1 1 1 1 1 1 1 1 1 1 1 1 1 1 1 1 1 1 1 1 1 1 1 1 1 1 1 1 1 1 1 1 1 1 1 1 1 1 1 1 1 1 1 1 1 1 1 1 1 1 1 1 1 1 1 1 1 1 1 1 1 1 1 1 1 1 1 1 1 1 1 1 1 1 1 1 1 1 1 1 1 1 1 1 1 1 1 1 1 1 1 1 1 1 1 1 1 1 1 1 1 1 1 1\n",
            "12/28/2023 04:57:38 - INFO - __main__ -   source_mask: 1 1 1 1 1 1 1 1 1 1 1 1 1 1 1 1 1 1 1 1 1 1 1 1 1 1 1 1 1 1 1 1 1 1 1 1 1 1 1 1 1 1 1 1 1 1 1 1 1 1 1 1 1 1 1 1 1 1 1 1 1 1 1 1 1 1 1 1 1 1 1 1 1 1 1 1 1 1 1 1 1 1 1 1 1 1 1 1 1 1 1 1 1 1 1 0 0 0 0 0 0 0 0 0 0 0 0 0 0 0 0 0 0 0 0 0 0 0 0 0 0 0 0 0 0 0 0 0 0 0 0 0 0 0 0 0 0 0 0 0 0 0 0 0 0 0 0 0 0 0 0 0 0 0 0 0 0 0 0 0 0 0 0 0 0 0 0 0 0 0 0 0 0 0 0 0 0 0 0 0 0 0 0 0 0 0 0 0 0 0 0 0 0 0 0 0 0 0 0 0\n",
            "12/28/2023 04:57:38 - INFO - __main__ -   target_tokens: ['<s>', 'a', '_new', '_array', '</s>']\n",
            "12/28/2023 04:57:38 - INFO - __main__ -   target_ids: 0 102 92 8932 2 1 1 1 1 1 1 1 1 1 1 1 1 1 1 1 1 1 1 1 1 1 1 1 1 1\n",
            "12/28/2023 04:57:38 - INFO - __main__ -   target_mask: 1 1 1 1 1 0 0 0 0 0 0 0 0 0 0 0 0 0 0 0 0 0 0 0 0 0 0 0 0 0\n",
            "12/28/2023 04:57:38 - INFO - __main__ -   *** Example ***\n",
            "12/28/2023 04:57:38 - INFO - __main__ -   idx: 3\n",
            "12/28/2023 04:57:38 - INFO - __main__ -   source_tokens: ['<s>', 'Do', '_the', '_caller', '_modify', '_the', '_returned', '_array', '_?', '</s>', 'public', '_Object', '_[', '_]', '_to', '_Array', '_(', '_)', '_{', '_fully', '_Lock', '_(', '_)', '_;', '_try', '_{', '_int', '_size', '_=', '_count', '_.', '_get', '_(', '_)', '_;', '_Object', '_[', '_]', '_a', '_=', '_new', '_Object', '_[', '_size', '_]', '_;', '_int', '_k', '_=', '_NUM', '_;', '_for', '_(', '_Node', '_<', '_E', '_>', '_p', '_=', '_head', '_.', '_next', '_;', '_p', '_!=', '_null', '_;', '_p', '_=', '_p', '_.', '_next', '_)', '_a', '_[', '_k', '_++', '_]', '_=', '_p', '_.', '_item', '_;', '_return', '_a', '_;', '_}', '_finally', '_{', '_fully', '_Unlock', '_(', '_)', '_;', '_}', '_}', '</s>']\n",
            "12/28/2023 04:57:38 - INFO - __main__ -   source_ids: 0 8275 5 17017 23209 5 1835 8932 17487 2 15110 35671 646 27779 7 42719 36 4839 25522 1950 11647 36 4839 25606 860 25522 6979 1836 5457 3212 479 120 36 4839 25606 35671 646 27779 10 5457 92 35671 646 1836 27779 25606 6979 449 5457 34300 25606 13 36 44058 28696 381 8061 181 5457 471 479 220 25606 181 49333 23796 25606 181 5457 181 479 220 4839 10 646 449 48793 27779 5457 181 479 6880 25606 671 10 25606 35524 1747 25522 1950 43076 36 4839 25606 35524 35524 2 1 1 1 1 1 1 1 1 1 1 1 1 1 1 1 1 1 1 1 1 1 1 1 1 1 1 1 1 1 1 1 1 1 1 1 1 1 1 1 1 1 1 1 1 1 1 1 1 1 1 1 1 1 1 1 1 1 1 1 1 1 1 1 1 1 1 1 1 1 1 1 1 1 1 1 1 1 1 1 1 1 1 1 1 1 1 1 1 1 1 1 1 1 1 1 1 1 1 1 1 1 1 1\n",
            "12/28/2023 04:57:38 - INFO - __main__ -   source_mask: 1 1 1 1 1 1 1 1 1 1 1 1 1 1 1 1 1 1 1 1 1 1 1 1 1 1 1 1 1 1 1 1 1 1 1 1 1 1 1 1 1 1 1 1 1 1 1 1 1 1 1 1 1 1 1 1 1 1 1 1 1 1 1 1 1 1 1 1 1 1 1 1 1 1 1 1 1 1 1 1 1 1 1 1 1 1 1 1 1 1 1 1 1 1 1 1 1 0 0 0 0 0 0 0 0 0 0 0 0 0 0 0 0 0 0 0 0 0 0 0 0 0 0 0 0 0 0 0 0 0 0 0 0 0 0 0 0 0 0 0 0 0 0 0 0 0 0 0 0 0 0 0 0 0 0 0 0 0 0 0 0 0 0 0 0 0 0 0 0 0 0 0 0 0 0 0 0 0 0 0 0 0 0 0 0 0 0 0 0 0 0 0 0 0 0 0 0 0 0 0\n",
            "12/28/2023 04:57:38 - INFO - __main__ -   target_tokens: ['<s>', 'Yes', '</s>']\n",
            "12/28/2023 04:57:38 - INFO - __main__ -   target_ids: 0 9904 2 1 1 1 1 1 1 1 1 1 1 1 1 1 1 1 1 1 1 1 1 1 1 1 1 1 1 1\n",
            "12/28/2023 04:57:38 - INFO - __main__ -   target_mask: 1 1 1 0 0 0 0 0 0 0 0 0 0 0 0 0 0 0 0 0 0 0 0 0 0 0 0 0 0 0\n",
            "12/28/2023 04:57:38 - INFO - __main__ -   *** Example ***\n",
            "12/28/2023 04:57:38 - INFO - __main__ -   idx: 4\n",
            "12/28/2023 04:57:38 - INFO - __main__ -   source_tokens: ['<s>', 'Do', '_an', '_array', '_contain', '_all', '_of', '_the', '_elements', '_in', '_this', '_queue', '_?', '</s>', 'public', '_Object', '_[', '_]', '_to', '_Array', '_(', '_)', '_{', '_fully', '_Lock', '_(', '_)', '_;', '_try', '_{', '_int', '_size', '_=', '_count', '_.', '_get', '_(', '_)', '_;', '_Object', '_[', '_]', '_a', '_=', '_new', '_Object', '_[', '_size', '_]', '_;', '_int', '_k', '_=', '_NUM', '_;', '_for', '_(', '_Node', '_<', '_E', '_>', '_p', '_=', '_head', '_.', '_next', '_;', '_p', '_!=', '_null', '_;', '_p', '_=', '_p', '_.', '_next', '_)', '_a', '_[', '_k', '_++', '_]', '_=', '_p', '_.', '_item', '_;', '_return', '_a', '_;', '_}', '_finally', '_{', '_fully', '_Unlock', '_(', '_)', '_;', '_}', '_}', '</s>']\n",
            "12/28/2023 04:57:38 - INFO - __main__ -   source_ids: 0 8275 41 8932 5585 70 9 5 4785 11 42 21021 17487 2 15110 35671 646 27779 7 42719 36 4839 25522 1950 11647 36 4839 25606 860 25522 6979 1836 5457 3212 479 120 36 4839 25606 35671 646 27779 10 5457 92 35671 646 1836 27779 25606 6979 449 5457 34300 25606 13 36 44058 28696 381 8061 181 5457 471 479 220 25606 181 49333 23796 25606 181 5457 181 479 220 4839 10 646 449 48793 27779 5457 181 479 6880 25606 671 10 25606 35524 1747 25522 1950 43076 36 4839 25606 35524 35524 2 1 1 1 1 1 1 1 1 1 1 1 1 1 1 1 1 1 1 1 1 1 1 1 1 1 1 1 1 1 1 1 1 1 1 1 1 1 1 1 1 1 1 1 1 1 1 1 1 1 1 1 1 1 1 1 1 1 1 1 1 1 1 1 1 1 1 1 1 1 1 1 1 1 1 1 1 1 1 1 1 1 1 1 1 1 1 1 1 1 1 1 1 1 1 1 1 1 1 1\n",
            "12/28/2023 04:57:38 - INFO - __main__ -   source_mask: 1 1 1 1 1 1 1 1 1 1 1 1 1 1 1 1 1 1 1 1 1 1 1 1 1 1 1 1 1 1 1 1 1 1 1 1 1 1 1 1 1 1 1 1 1 1 1 1 1 1 1 1 1 1 1 1 1 1 1 1 1 1 1 1 1 1 1 1 1 1 1 1 1 1 1 1 1 1 1 1 1 1 1 1 1 1 1 1 1 1 1 1 1 1 1 1 1 1 1 1 1 0 0 0 0 0 0 0 0 0 0 0 0 0 0 0 0 0 0 0 0 0 0 0 0 0 0 0 0 0 0 0 0 0 0 0 0 0 0 0 0 0 0 0 0 0 0 0 0 0 0 0 0 0 0 0 0 0 0 0 0 0 0 0 0 0 0 0 0 0 0 0 0 0 0 0 0 0 0 0 0 0 0 0 0 0 0 0 0 0 0 0 0 0 0 0 0 0 0 0\n",
            "12/28/2023 04:57:38 - INFO - __main__ -   target_tokens: ['<s>', 'Yes', '</s>']\n",
            "12/28/2023 04:57:38 - INFO - __main__ -   target_ids: 0 9904 2 1 1 1 1 1 1 1 1 1 1 1 1 1 1 1 1 1 1 1 1 1 1 1 1 1 1 1\n",
            "12/28/2023 04:57:38 - INFO - __main__ -   target_mask: 1 1 1 0 0 0 0 0 0 0 0 0 0 0 0 0 0 0 0 0 0 0 0 0 0 0 0 0 0 0\n",
            "/usr/local/lib/python3.10/dist-packages/transformers/optimization.py:411: FutureWarning: This implementation of AdamW is deprecated and will be removed in a future version. Use the PyTorch implementation torch.optim.AdamW instead, or set `no_deprecation_warning=True` to disable this warning\n",
            "  warnings.warn(\n",
            "12/28/2023 04:58:58 - INFO - __main__ -   ***** Running training *****\n",
            "12/28/2023 04:58:58 - INFO - __main__ -     Num examples = 95778\n",
            "12/28/2023 04:58:58 - INFO - __main__ -     Batch size = 32\n",
            "12/28/2023 04:58:58 - INFO - __main__ -     Num epoch = 1\n",
            "epoch 0 loss 4.0433: 100% 2994/2994 [1:01:47<00:00,  1.24s/it]\n",
            "12/28/2023 06:00:56 - INFO - __main__ -   \n",
            "***** Running evaluation *****\n",
            "12/28/2023 06:00:56 - INFO - __main__ -     Num examples = 12000\n",
            "12/28/2023 06:00:56 - INFO - __main__ -     Batch size = 32\n",
            "12/28/2023 06:03:30 - INFO - __main__ -     eval_ppl = 69.25819\n",
            "12/28/2023 06:03:30 - INFO - __main__ -     global_step = 2995\n",
            "12/28/2023 06:03:30 - INFO - __main__ -     train_loss = 4.0433\n",
            "12/28/2023 06:03:30 - INFO - __main__ -     ********************\n",
            "12/28/2023 06:03:37 - INFO - __main__ -     Best ppl:69.25819\n",
            "12/28/2023 06:03:37 - INFO - __main__ -     ********************\n",
            "/content/QACODE/codeBERT/code/model.py:77: UserWarning: The torch.cuda.*DtypeTensor constructors are no longer recommended. It's best to use methods such as torch.tensor(data, dtype=*, device='cuda') to create tensors. (Triggered internally at ../torch/csrc/tensor/python_tensor.cpp:83.)\n",
            "  zero=torch.cuda.LongTensor(1).fill_(0)\n",
            "2023-12-28 06:03:43.984435: E external/local_xla/xla/stream_executor/cuda/cuda_dnn.cc:9261] Unable to register cuDNN factory: Attempting to register factory for plugin cuDNN when one has already been registered\n",
            "2023-12-28 06:03:43.984513: E external/local_xla/xla/stream_executor/cuda/cuda_fft.cc:607] Unable to register cuFFT factory: Attempting to register factory for plugin cuFFT when one has already been registered\n",
            "2023-12-28 06:03:43.985879: E external/local_xla/xla/stream_executor/cuda/cuda_blas.cc:1515] Unable to register cuBLAS factory: Attempting to register factory for plugin cuBLAS when one has already been registered\n",
            "2023-12-28 06:03:44.821119: W tensorflow/compiler/tf2tensorrt/utils/py_utils.cc:38] TF-TRT Warning: Could not find TensorRT\n",
            "12/28/2023 06:03:45 - INFO - numexpr.utils -   NumExpr defaulting to 2 threads.\n",
            "12/28/2023 06:05:37 - INFO - __main__ -   dev set: bleu = 24.86 | rouge_l = 20.21 | meteor = 5.01 | EM = 2.90 | Precision = 33.11 | Recall = 17.57 | F1 = 21.28 | \n",
            "12/28/2023 06:05:37 - INFO - __main__ -     ********************\n",
            "12/28/2023 06:05:37 - INFO - __main__ -     Best bleu:24.856327567778333\n",
            "12/28/2023 06:05:37 - INFO - __main__ -     ********************\n",
            "12/28/2023 06:05:39 - INFO - __main__ -   Test file: ../data/java/test/\n",
            "100% 375/375 [19:24<00:00,  3.10s/it]\n",
            "12/28/2023 06:25:35 - INFO - __main__ -   test set: bleu = 25.91 | rouge_l = 19.78 | meteor = 5.04 | EM = 2.88 | Precision = 32.23 | Recall = 17.25 | F1 = 20.81 | \n",
            "12/28/2023 06:25:35 - INFO - __main__ -     ********************\n"
          ]
        }
      ],
      "source": [
        "!bash java_script.sh 0 CodeBERT"
      ]
    },
    {
      "cell_type": "code",
      "execution_count": 7,
      "metadata": {
        "id": "G-NGYRysaQYs",
        "colab": {
          "base_uri": "https://localhost:8080/"
        },
        "outputId": "26fc6709-bbab-48ef-c938-f0ea871d9a2e"
      },
      "outputs": [
        {
          "output_type": "stream",
          "name": "stdout",
          "text": [
            "12/28/2023 06:25:43 - INFO - __main__ -   Namespace(model_type='roberta', model_name_or_path='microsoft/codebert-base', output_dir='../output/CodeBERT', load_model_path='../output/CodeBERT/checkpoint-best-bleu/pytorch_model.bin', train_filename='../data/java/train/', dev_filename='../data/java/dev/', test_filename='../data/java/test/', config_name='', tokenizer_name='', max_source_length=200, max_target_length=30, do_train=False, do_eval=False, do_test=True, do_lower_case=False, no_cuda=False, train_batch_size=32, eval_batch_size=32, gradient_accumulation_steps=1, learning_rate=5e-05, beam_size=10, weight_decay=0.0, adam_epsilon=1e-08, max_grad_norm=1.0, num_train_epochs=1, max_steps=-1, eval_steps=-1, train_steps=-1, warmup_steps=0, local_rank=-1, seed=42)\n",
            "12/28/2023 06:25:43 - WARNING - __main__ -   Process rank: -1, device: cuda, n_gpu: 1, distributed training: False\n",
            "12/28/2023 06:25:48 - INFO - __main__ -   reload model from ../output/CodeBERT/checkpoint-best-bleu/pytorch_model.bin\n",
            "12/28/2023 06:25:49 - INFO - __main__ -   Test file: ../data/java/test/\n",
            "  0% 0/375 [00:00<?, ?it/s]/content/QACODE/codeBERT/code/model.py:77: UserWarning: The torch.cuda.*DtypeTensor constructors are no longer recommended. It's best to use methods such as torch.tensor(data, dtype=*, device='cuda') to create tensors. (Triggered internally at ../torch/csrc/tensor/python_tensor.cpp:83.)\n",
            "  zero=torch.cuda.LongTensor(1).fill_(0)\n",
            "2023-12-28 06:26:04.414381: E external/local_xla/xla/stream_executor/cuda/cuda_dnn.cc:9261] Unable to register cuDNN factory: Attempting to register factory for plugin cuDNN when one has already been registered\n",
            "2023-12-28 06:26:04.414464: E external/local_xla/xla/stream_executor/cuda/cuda_fft.cc:607] Unable to register cuFFT factory: Attempting to register factory for plugin cuFFT when one has already been registered\n",
            "2023-12-28 06:26:04.416835: E external/local_xla/xla/stream_executor/cuda/cuda_blas.cc:1515] Unable to register cuBLAS factory: Attempting to register factory for plugin cuBLAS when one has already been registered\n",
            "2023-12-28 06:26:05.759212: W tensorflow/compiler/tf2tensorrt/utils/py_utils.cc:38] TF-TRT Warning: Could not find TensorRT\n",
            "12/28/2023 06:26:06 - INFO - numexpr.utils -   NumExpr defaulting to 2 threads.\n",
            "100% 375/375 [19:26<00:00,  3.11s/it]\n",
            "12/28/2023 06:45:47 - INFO - __main__ -   test set: bleu = 25.91 | rouge_l = 19.78 | meteor = 5.04 | EM = 2.88 | Precision = 32.23 | Recall = 17.25 | F1 = 20.81 | \n",
            "12/28/2023 06:45:47 - INFO - __main__ -     ********************\n"
          ]
        }
      ],
      "source": [
        "!bash java_script_test.sh 0 CodeBERT"
      ]
    }
  ],
  "metadata": {
    "accelerator": "GPU",
    "colab": {
      "provenance": [],
      "gpuType": "T4",
      "include_colab_link": true
    },
    "kernelspec": {
      "display_name": "Python 3",
      "name": "python3"
    },
    "language_info": {
      "name": "python"
    }
  },
  "nbformat": 4,
  "nbformat_minor": 0
}